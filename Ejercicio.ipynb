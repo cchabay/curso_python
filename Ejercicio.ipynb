{
 "cells": [
  {
   "cell_type": "markdown",
   "metadata": {},
   "source": [
    "### Ejercicio 1: Manipulación de listas\n",
    "\n",
    "Dada la siguiente lista de números:\n",
    "\n",
    "```python\n",
    "numeros = [5, 10, 15, 20, 25, 30]\n",
    "```\n",
    "\n",
    "1. Cambia el segundo elemento de la lista a `12`.\n",
    "2. Agrega el número `35` al final de la lista.\n",
    "3. Elimina el primer elemento de la lista.\n",
    "4. Imprime el número total de elementos en la lista.\n",
    "5. Utiliza un bucle `for` para imprimir cada número multiplicado por 2."
   ]
  },
  {
   "cell_type": "code",
   "execution_count": 1,
   "metadata": {},
   "outputs": [
    {
     "name": "stdout",
     "output_type": "stream",
     "text": [
      "6\n",
      "24\n",
      "30\n",
      "40\n",
      "50\n",
      "60\n",
      "70\n"
     ]
    }
   ],
   "source": [
    "numeros = [5, 10, 15, 20, 25, 30]\n",
    "numeros[1] = 12\n",
    "numeros.append(35)\n",
    "numeros.pop(0)\n",
    "print (len(numeros))\n",
    "for numero in numeros:\n",
    "    print(numero * 2)\n"
   ]
  },
  {
   "cell_type": "markdown",
   "metadata": {},
   "source": [
    "### Ejercicio 2: Diccionarios y condicionales\n",
    "\n",
    "Dado el siguiente diccionario que representa a una persona:\n",
    "\n",
    "```python\n",
    "persona = {'nombre': 'Ana', 'edad': 28, 'ciudad': 'Buenos Aires'}\n",
    "```\n",
    "\n",
    "1. Imprime el valor de la clave `nombre`.\n",
    "2. Agrega una nueva clave llamada `profesión` con el valor `'Ingeniera'`.\n",
    "3. Modifica la edad a `29`.\n",
    "4. Escribe una estructura condicional (`if`) que imprima \"Mayor de edad\" si la persona tiene 18 años o más, y \"Menor de edad\" en caso contrario."
   ]
  },
  {
   "cell_type": "code",
   "execution_count": 3,
   "metadata": {},
   "outputs": [
    {
     "name": "stdout",
     "output_type": "stream",
     "text": [
      "Ana\n",
      "Mayor de edad\n"
     ]
    }
   ],
   "source": [
    "persona = {'nombre': 'Ana', 'edad': 28, 'ciudad': 'Buenos Aires'}\n",
    "print(persona['nombre'])\n",
    "persona['profesión'] = 'Ingeniera'\n",
    "persona['edad'] = 29\n",
    "if persona['edad'] >= 18:\n",
    "    print(\"Mayor de edad\")\n",
    "else:\n",
    "    print(\"Menor de edad\")"
   ]
  },
  {
   "cell_type": "markdown",
   "metadata": {},
   "source": [
    "### Ejercicio 3: Conjuntos y bucles `while`\n",
    "\n",
    "Dado el conjunto:\n",
    "\n",
    "```python\n",
    "numeros_set = {1, 2, 3, 4, 5}\n",
    "```\n",
    "\n",
    "1. Agrega los números `6` y `7` al conjunto.\n",
    "2. Escribe un bucle `while` que elimine un número del conjunto en cada iteración hasta que el conjunto esté vacío. Imprime el conjunto después de cada eliminación."
   ]
  },
  {
   "cell_type": "code",
   "execution_count": 5,
   "metadata": {},
   "outputs": [
    {
     "name": "stdout",
     "output_type": "stream",
     "text": [
      "{2, 3, 4, 5, 6, 7}\n",
      "{3, 4, 5, 6, 7}\n",
      "{4, 5, 6, 7}\n",
      "{5, 6, 7}\n",
      "{6, 7}\n",
      "{7}\n",
      "set()\n"
     ]
    }
   ],
   "source": [
    "numeros_set = {1, 2, 3, 4, 5}\n",
    "numeros_set.add(6)\n",
    "numeros_set.add(7)\n",
    "\n",
    "while numeros_set:\n",
    "    numeros_set.pop()\n",
    "    print (numeros_set)\n"
   ]
  },
  {
   "cell_type": "markdown",
   "metadata": {},
   "source": [
    "### Ejercicio 4: Tuplas y ciclos `for`\n",
    "\n",
    "Dada la siguiente tupla:\n",
    "\n",
    "```python\n",
    "colores = ('rojo', 'verde', 'azul', 'amarillo')\n",
    "```\n",
    "\n",
    "1. Escribe un ciclo `for` que imprima cada color en la tupla.\n",
    "2. Crea una nueva tupla que contenga los mismos colores pero en orden inverso. Imprime la nueva tupla."
   ]
  },
  {
   "cell_type": "code",
   "execution_count": 7,
   "metadata": {},
   "outputs": [
    {
     "name": "stdout",
     "output_type": "stream",
     "text": [
      "rojo\n",
      "verde\n",
      "azul\n",
      "amarillo\n",
      "('amarillo', 'azul', 'verde', 'rojo')\n"
     ]
    }
   ],
   "source": [
    "colores = ('rojo', 'verde', 'azul', 'amarillo')\n",
    "for color in colores:\n",
    "    print(color)\n",
    "\n",
    "colores_inverso = tuple(reversed(colores))\n",
    "\n",
    "print(colores_inverso)"
   ]
  },
  {
   "cell_type": "markdown",
   "metadata": {},
   "source": [
    "### Ejercicio 5: Números y control de flujo\n",
    "\n",
    "Escribe un programa que realice lo siguiente:\n",
    "\n",
    "1. Solicite al usuario ingresar un número entero.\n",
    "2. Si el número es positivo, imprima \"El número es positivo\".\n",
    "3. Si el número es negativo, imprima \"El número es negativo\".\n",
    "4. Si el número es cero, imprima \"El número es cero\".\n",
    "5. Utiliza un bucle `for` para imprimir todos los números del 1 hasta el número ingresado (solo si es positivo)."
   ]
  },
  {
   "cell_type": "code",
   "execution_count": 8,
   "metadata": {},
   "outputs": [
    {
     "name": "stdout",
     "output_type": "stream",
     "text": [
      "El número es positivo\n",
      "1\n",
      "2\n",
      "3\n",
      "4\n",
      "5\n"
     ]
    }
   ],
   "source": [
    "numero = 5\n",
    "if numero > 0:\n",
    "    print (\"El número es positivo\")\n",
    "elif numero < 0:\n",
    "    print (\"El número es negativo\")\n",
    "else:\n",
    "    print (\"El número es cero\")\n",
    "\n",
    "if numero > 0:\n",
    "    for num in range(1, numero + 1):\n",
    "        print(num)\n",
    "\n",
    "#Solucion clase\n",
    "#ingreso = 3\n",
    "#for numero in range(1, ingreso):\n",
    "#    print(f\"El numero a evaluar es {numero}\")\n",
    "#    if numero > 0:\n",
    "#        print(\"El numero es positivo\")\n",
    "#    elif numero < 0:\n",
    "#        print (\"El número es negativo\")\n",
    "#    else:\n",
    "#        print (\"El número es cero\")"
   ]
  },
  {
   "cell_type": "markdown",
   "metadata": {},
   "source": [
    "### Ejercicio 6 (Investigación): Control de flujos con inputs\n",
    "\n",
    "Investiga el concepto de **inputs** en Python. Escribe un programa que:\n",
    "\n",
    "1. Solicite al usuario que ingrese dos números.\n",
    "2. Intente dividir el primer número entre el segundo.\n",
    "3. Si el usuario intenta dividir entre cero, captura la excepción y muestra un mensaje adecuado como \"Error: no se puede dividir entre cero\"."
   ]
  },
  {
   "cell_type": "code",
   "execution_count": 11,
   "metadata": {},
   "outputs": [
    {
     "name": "stdout",
     "output_type": "stream",
     "text": [
      "Error: division by zero\n",
      "Aca se termina todo\n"
     ]
    },
    {
     "ename": "ZeroDivisionError",
     "evalue": "division by zero",
     "output_type": "error",
     "traceback": [
      "\u001b[1;31m---------------------------------------------------------------------------\u001b[0m",
      "\u001b[1;31mZeroDivisionError\u001b[0m                         Traceback (most recent call last)",
      "Cell \u001b[1;32mIn[11], line 22\u001b[0m\n\u001b[0;32m     20\u001b[0m         \u001b[38;5;28mprint\u001b[39m(\u001b[38;5;124m\"\u001b[39m\u001b[38;5;124mError: no se puede dividir entre cero\u001b[39m\u001b[38;5;124m\"\u001b[39m)\n\u001b[0;32m     21\u001b[0m     \u001b[38;5;28;01melse\u001b[39;00m:\n\u001b[1;32m---> 22\u001b[0m         resultado \u001b[38;5;241m=\u001b[39m \u001b[43mnumerador_int\u001b[49m\u001b[43m \u001b[49m\u001b[38;5;241;43m/\u001b[39;49m\u001b[43m \u001b[49m\u001b[43mdenominador_int\u001b[49m\n\u001b[0;32m     23\u001b[0m         \u001b[38;5;28mprint\u001b[39m(\u001b[38;5;124mf\u001b[39m\u001b[38;5;124m\"\u001b[39m\u001b[38;5;124mEl resultado de la division es \u001b[39m\u001b[38;5;132;01m{\u001b[39;00mresultado\u001b[38;5;132;01m}\u001b[39;00m\u001b[38;5;124m\"\u001b[39m)\n\u001b[0;32m     25\u001b[0m \u001b[38;5;28;01mexcept\u001b[39;00m \u001b[38;5;167;01mException\u001b[39;00m \u001b[38;5;28;01mas\u001b[39;00m e:\n",
      "\u001b[1;31mZeroDivisionError\u001b[0m: division by zero"
     ]
    }
   ],
   "source": [
    "#print(\"Ingrese dos números: \")\n",
    "#primer_numero = input()\n",
    "#numero1 = int(primer_numero)\n",
    "#segundo_numero = input()\n",
    "#numero2 = int(segundo_numero)\n",
    "\n",
    "#if numero2 == 0:\n",
    "#    print(\"Error: no se puede dividir entre cero\")\n",
    "#else:\n",
    "#    print(numero1 / numero2)\n",
    "\n",
    "#Solucion clase\n",
    "try:\n",
    "    numerador = input(\"Ingrese numerador\")\n",
    "    numerador_int = int(numerador)\n",
    "    denominador = input(\"Ingrese denominador\")\n",
    "    denominador_int = int(denominador)\n",
    "\n",
    "    if denominador == 0:\n",
    "        print(\"Error: no se puede dividir entre cero\")\n",
    "    else:\n",
    "        resultado = numerador_int / denominador_int\n",
    "        print(f\"El resultado de la division es {resultado}\")\n",
    "\n",
    "except Exception as e:\n",
    "    print(f\"Error: {e}\")\n",
    "    raise\n",
    "\n",
    "finally:\n",
    "    print(\"Aca se termina todo\")"
   ]
  }
 ],
 "metadata": {
  "kernelspec": {
   "display_name": "entorno-virtual",
   "language": "python",
   "name": "python3"
  },
  "language_info": {
   "codemirror_mode": {
    "name": "ipython",
    "version": 3
   },
   "file_extension": ".py",
   "mimetype": "text/x-python",
   "name": "python",
   "nbconvert_exporter": "python",
   "pygments_lexer": "ipython3",
   "version": "3.12.6"
  }
 },
 "nbformat": 4,
 "nbformat_minor": 2
}
